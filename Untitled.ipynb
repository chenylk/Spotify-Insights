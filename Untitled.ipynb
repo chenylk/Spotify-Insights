{
 "cells": [
  {
   "cell_type": "code",
   "execution_count": 28,
   "metadata": {},
   "outputs": [],
   "source": [
    "#import necessary libraries\n",
    "import pandas as pd \n",
    "import numpy as np \n",
    "import config\n",
    "import spotipy\n",
    "from spotipy.oauth2 import SpotifyClientCredentials\n",
    "\n",
    "#import id and secret from config file\n",
    "cid = config.id\n",
    "secret = config.secret\n",
    "\n",
    "#setup the client credentials\n",
    "client_credentials_manager = SpotifyClientCredentials(client_id=cid, client_secret=secret)\n",
    "sp = spotipy.Spotify(auth_manager = client_credentials_manager)\n",
    "\n",
    "#results = sp.search(q='drake', limit = 30)\n",
    "#for idx, track in enumerate(results['tracks']['items']):\n",
    "    #print(idx,track['name'])\n",
    "\n",
    "play_link = 'https://open.spotify.com/playlist/37i9dQZEVXbLp5XoPON0wI'\n",
    "play_uri = play_link.split('/')[-1]\n",
    "track_uri = [x['track']['uri'] for x in sp.playlist_tracks(play_uri)['items']]\n",
    "\n",
    "#for i in sp.playlist_tracks(play_uri)['items']\n",
    "#print(len(sp.playlist_tracks(play_uri)['items']))\n",
    "#print(len(sp.audio_features(track_uri)))\n",
    "\n",
    "a = {}\n",
    "for i in range(len(sp.playlist_tracks(play_uri)['items'])):\n",
    "    lst = {}\n",
    "    song_name = sp.playlist_tracks(play_uri)['items'][i]['track']['name']\n",
    "    singer_name = sp.playlist_tracks(play_uri)['items'][i]['track']['artists'][0]['name']\n",
    "    song_popularity = sp.playlist_tracks(play_uri)['items'][i]['track']['popularity']\n",
    "    lst['Singer Name'] = singer_name\n",
    "    lst['Popularity'] = song_popularity\n",
    "    for attr, val in sp.audio_features(track_uri)[i].items():\n",
    "        if attr not in ('id','uri','track_href','analysis_url','time_signature'):\n",
    "            lst[attr] = val\n",
    "    a[song_name] = lst\n",
    "\n",
    "#for i in a.values():\n",
    "    #print(i)\n",
    "#print(sp.playlist_tracks(play_uri)['items'])\n",
    "#print(sp.audio_features(track_uri))\n",
    "df = pd.DataFrame.from_dict(a)\n",
    "df = df.swapaxes('index','columns')\n",
    "\n",
    "\n"
   ]
  },
  {
   "cell_type": "code",
   "execution_count": null,
   "metadata": {},
   "outputs": [],
   "source": []
  },
  {
   "cell_type": "code",
   "execution_count": 17,
   "metadata": {},
   "outputs": [],
   "source": [
    "top_ten = df[0:10]\n",
    "next_forty = df[10:]"
   ]
  },
  {
   "cell_type": "code",
   "execution_count": 25,
   "metadata": {},
   "outputs": [
    {
     "data": {
      "text/plain": [
       "Singer Name         object\n",
       "Popularity          object\n",
       "danceability        object\n",
       "energy              object\n",
       "key                 object\n",
       "loudness            object\n",
       "mode                object\n",
       "speechiness         object\n",
       "acousticness        object\n",
       "instrumentalness    object\n",
       "liveness            object\n",
       "valence             object\n",
       "tempo               object\n",
       "type                object\n",
       "duration_ms         object\n",
       "dtype: object"
      ]
     },
     "execution_count": 25,
     "metadata": {},
     "output_type": "execute_result"
    }
   ],
   "source": [
    "df.dtypes\n"
   ]
  },
  {
   "cell_type": "code",
   "execution_count": null,
   "metadata": {},
   "outputs": [],
   "source": []
  }
 ],
 "metadata": {
  "interpreter": {
   "hash": "ddf38a26f3358ec89bd3b0dc7996634a1ffcc349c3d571666472241edb1181f0"
  },
  "kernelspec": {
   "display_name": "Python 3.7.7 ('mlenv')",
   "language": "python",
   "name": "python3"
  },
  "language_info": {
   "codemirror_mode": {
    "name": "ipython",
    "version": 3
   },
   "file_extension": ".py",
   "mimetype": "text/x-python",
   "name": "python",
   "nbconvert_exporter": "python",
   "pygments_lexer": "ipython3",
   "version": "3.7.7"
  }
 },
 "nbformat": 4,
 "nbformat_minor": 4
}
